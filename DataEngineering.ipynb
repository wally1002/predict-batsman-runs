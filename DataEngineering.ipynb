{
 "cells": [
  {
   "cell_type": "markdown",
   "source": [
    "### Data Engineering\n",
    "We now need to create and modify some features, embedd categorical variables, scale them etc."
   ],
   "metadata": {}
  },
  {
   "cell_type": "code",
   "execution_count": 1,
   "source": [
    "import numpy as np\n",
    "import pandas as pd\n",
    "import matplotlib.pyplot as plt\n",
    "%matplotlib inline"
   ],
   "outputs": [],
   "metadata": {}
  },
  {
   "cell_type": "code",
   "execution_count": 2,
   "source": [
    "df = pd.read_csv('dataset.csv')\n",
    "df.head()"
   ],
   "outputs": [
    {
     "output_type": "execute_result",
     "data": {
      "text/html": [
       "<div>\n",
       "<style scoped>\n",
       "    .dataframe tbody tr th:only-of-type {\n",
       "        vertical-align: middle;\n",
       "    }\n",
       "\n",
       "    .dataframe tbody tr th {\n",
       "        vertical-align: top;\n",
       "    }\n",
       "\n",
       "    .dataframe thead th {\n",
       "        text-align: right;\n",
       "    }\n",
       "</style>\n",
       "<table border=\"1\" class=\"dataframe\">\n",
       "  <thead>\n",
       "    <tr style=\"text-align: right;\">\n",
       "      <th></th>\n",
       "      <th>Match Runs</th>\n",
       "      <th>Match SR</th>\n",
       "      <th>Total Runs</th>\n",
       "      <th>Total Balls</th>\n",
       "      <th>Ave</th>\n",
       "      <th>Career SR</th>\n",
       "      <th>HS</th>\n",
       "      <th>NO</th>\n",
       "      <th>0</th>\n",
       "      <th>50</th>\n",
       "      <th>100</th>\n",
       "      <th>Opposition</th>\n",
       "      <th>Ground</th>\n",
       "      <th>match_id</th>\n",
       "      <th>player_id</th>\n",
       "      <th>m1</th>\n",
       "      <th>m2</th>\n",
       "      <th>m3</th>\n",
       "      <th>m4</th>\n",
       "      <th>m5</th>\n",
       "    </tr>\n",
       "  </thead>\n",
       "  <tbody>\n",
       "    <tr>\n",
       "      <th>0</th>\n",
       "      <td>19.0</td>\n",
       "      <td>54.28</td>\n",
       "      <td>66.0</td>\n",
       "      <td>115</td>\n",
       "      <td>14.16</td>\n",
       "      <td>73.91</td>\n",
       "      <td>36.0</td>\n",
       "      <td>0</td>\n",
       "      <td>2</td>\n",
       "      <td>0</td>\n",
       "      <td>0</td>\n",
       "      <td>England</td>\n",
       "      <td>Leeds</td>\n",
       "      <td>634</td>\n",
       "      <td>35320</td>\n",
       "      <td>0.0</td>\n",
       "      <td>0.0</td>\n",
       "      <td>36.0</td>\n",
       "      <td>10.0</td>\n",
       "      <td>20.0</td>\n",
       "    </tr>\n",
       "    <tr>\n",
       "      <th>1</th>\n",
       "      <td>31.0</td>\n",
       "      <td>119.23</td>\n",
       "      <td>85.0</td>\n",
       "      <td>141</td>\n",
       "      <td>16.57</td>\n",
       "      <td>82.26</td>\n",
       "      <td>36.0</td>\n",
       "      <td>0</td>\n",
       "      <td>2</td>\n",
       "      <td>0</td>\n",
       "      <td>0</td>\n",
       "      <td>England</td>\n",
       "      <td>Nottingham</td>\n",
       "      <td>635</td>\n",
       "      <td>35320</td>\n",
       "      <td>0.0</td>\n",
       "      <td>36.0</td>\n",
       "      <td>10.0</td>\n",
       "      <td>20.0</td>\n",
       "      <td>19.0</td>\n",
       "    </tr>\n",
       "    <tr>\n",
       "      <th>2</th>\n",
       "      <td>36.0</td>\n",
       "      <td>163.63</td>\n",
       "      <td>116.0</td>\n",
       "      <td>163</td>\n",
       "      <td>19.00</td>\n",
       "      <td>93.25</td>\n",
       "      <td>36.0</td>\n",
       "      <td>0</td>\n",
       "      <td>2</td>\n",
       "      <td>0</td>\n",
       "      <td>0</td>\n",
       "      <td>Sri Lanka</td>\n",
       "      <td>Nagpur</td>\n",
       "      <td>644</td>\n",
       "      <td>35320</td>\n",
       "      <td>36.0</td>\n",
       "      <td>10.0</td>\n",
       "      <td>20.0</td>\n",
       "      <td>19.0</td>\n",
       "      <td>31.0</td>\n",
       "    </tr>\n",
       "    <tr>\n",
       "      <th>3</th>\n",
       "      <td>53.0</td>\n",
       "      <td>129.26</td>\n",
       "      <td>152.0</td>\n",
       "      <td>204</td>\n",
       "      <td>22.77</td>\n",
       "      <td>100.49</td>\n",
       "      <td>53.0</td>\n",
       "      <td>0</td>\n",
       "      <td>2</td>\n",
       "      <td>0</td>\n",
       "      <td>0</td>\n",
       "      <td>Sri Lanka</td>\n",
       "      <td>Pune</td>\n",
       "      <td>646</td>\n",
       "      <td>35320</td>\n",
       "      <td>10.0</td>\n",
       "      <td>20.0</td>\n",
       "      <td>19.0</td>\n",
       "      <td>31.0</td>\n",
       "      <td>36.0</td>\n",
       "    </tr>\n",
       "    <tr>\n",
       "      <th>4</th>\n",
       "      <td>30.0</td>\n",
       "      <td>103.44</td>\n",
       "      <td>205.0</td>\n",
       "      <td>233</td>\n",
       "      <td>23.50</td>\n",
       "      <td>100.85</td>\n",
       "      <td>53.0</td>\n",
       "      <td>0</td>\n",
       "      <td>2</td>\n",
       "      <td>1</td>\n",
       "      <td>0</td>\n",
       "      <td>Sri Lanka</td>\n",
       "      <td>Margao</td>\n",
       "      <td>648</td>\n",
       "      <td>35320</td>\n",
       "      <td>20.0</td>\n",
       "      <td>19.0</td>\n",
       "      <td>31.0</td>\n",
       "      <td>36.0</td>\n",
       "      <td>53.0</td>\n",
       "    </tr>\n",
       "  </tbody>\n",
       "</table>\n",
       "</div>"
      ],
      "text/plain": [
       "   Match Runs Match SR  Total Runs  Total Balls    Ave  Career SR    HS  NO  \\\n",
       "0        19.0    54.28        66.0          115  14.16      73.91  36.0   0   \n",
       "1        31.0   119.23        85.0          141  16.57      82.26  36.0   0   \n",
       "2        36.0   163.63       116.0          163  19.00      93.25  36.0   0   \n",
       "3        53.0   129.26       152.0          204  22.77     100.49  53.0   0   \n",
       "4        30.0   103.44       205.0          233  23.50     100.85  53.0   0   \n",
       "\n",
       "   0  50  100 Opposition      Ground  match_id  player_id    m1    m2    m3  \\\n",
       "0  2   0    0    England       Leeds       634      35320   0.0   0.0  36.0   \n",
       "1  2   0    0    England  Nottingham       635      35320   0.0  36.0  10.0   \n",
       "2  2   0    0  Sri Lanka      Nagpur       644      35320  36.0  10.0  20.0   \n",
       "3  2   0    0  Sri Lanka        Pune       646      35320  10.0  20.0  19.0   \n",
       "4  2   1    0  Sri Lanka      Margao       648      35320  20.0  19.0  31.0   \n",
       "\n",
       "     m4    m5  \n",
       "0  10.0  20.0  \n",
       "1  20.0  19.0  \n",
       "2  19.0  31.0  \n",
       "3  31.0  36.0  \n",
       "4  36.0  53.0  "
      ]
     },
     "metadata": {},
     "execution_count": 2
    }
   ],
   "metadata": {}
  },
  {
   "cell_type": "markdown",
   "source": [
    "We need to subtract match runs from the total runs for it to be only past data.we also need to remove notout sign * from the match runs column"
   ],
   "metadata": {}
  },
  {
   "cell_type": "markdown",
   "source": [
    "We should now select between Total Balls faced or Career SR. We can simply choose SR because it is a scaled varibale and is bound to be in between 0-100. We should drop Match SR because it is of no real use to us. "
   ],
   "metadata": {}
  },
  {
   "cell_type": "code",
   "execution_count": 3,
   "source": [
    "df.drop(['Total Balls', 'Match SR'], axis=1, inplace=True)"
   ],
   "outputs": [],
   "metadata": {}
  },
  {
   "cell_type": "markdown",
   "source": [
    "We now need to enocode all of the 50s, 100s, 0s, and NO columns into atmost one column. Let's start by giving 50's a weight of 10 and 100's a 20 and 0's a -5 and Notouts a 5. "
   ],
   "metadata": {}
  },
  {
   "cell_type": "code",
   "execution_count": 4,
   "source": [
    "df['Records'] = df['100']*20 + df['50']*10 - df['0']*5 + df['NO']*5"
   ],
   "outputs": [],
   "metadata": {}
  },
  {
   "cell_type": "markdown",
   "source": [
    "We have no use of Player ID and Match ID so we can drop all these non essential columns"
   ],
   "metadata": {}
  },
  {
   "cell_type": "code",
   "execution_count": 5,
   "source": [
    "df.drop(['100', '50', '0', 'NO', 'player_id', 'match_id'], axis=1, inplace=True)\n",
    "df.head()"
   ],
   "outputs": [
    {
     "output_type": "execute_result",
     "data": {
      "text/html": [
       "<div>\n",
       "<style scoped>\n",
       "    .dataframe tbody tr th:only-of-type {\n",
       "        vertical-align: middle;\n",
       "    }\n",
       "\n",
       "    .dataframe tbody tr th {\n",
       "        vertical-align: top;\n",
       "    }\n",
       "\n",
       "    .dataframe thead th {\n",
       "        text-align: right;\n",
       "    }\n",
       "</style>\n",
       "<table border=\"1\" class=\"dataframe\">\n",
       "  <thead>\n",
       "    <tr style=\"text-align: right;\">\n",
       "      <th></th>\n",
       "      <th>Match Runs</th>\n",
       "      <th>Total Runs</th>\n",
       "      <th>Ave</th>\n",
       "      <th>Career SR</th>\n",
       "      <th>HS</th>\n",
       "      <th>Opposition</th>\n",
       "      <th>Ground</th>\n",
       "      <th>m1</th>\n",
       "      <th>m2</th>\n",
       "      <th>m3</th>\n",
       "      <th>m4</th>\n",
       "      <th>m5</th>\n",
       "      <th>Records</th>\n",
       "    </tr>\n",
       "  </thead>\n",
       "  <tbody>\n",
       "    <tr>\n",
       "      <th>0</th>\n",
       "      <td>19.0</td>\n",
       "      <td>66.0</td>\n",
       "      <td>14.16</td>\n",
       "      <td>73.91</td>\n",
       "      <td>36.0</td>\n",
       "      <td>England</td>\n",
       "      <td>Leeds</td>\n",
       "      <td>0.0</td>\n",
       "      <td>0.0</td>\n",
       "      <td>36.0</td>\n",
       "      <td>10.0</td>\n",
       "      <td>20.0</td>\n",
       "      <td>-10</td>\n",
       "    </tr>\n",
       "    <tr>\n",
       "      <th>1</th>\n",
       "      <td>31.0</td>\n",
       "      <td>85.0</td>\n",
       "      <td>16.57</td>\n",
       "      <td>82.26</td>\n",
       "      <td>36.0</td>\n",
       "      <td>England</td>\n",
       "      <td>Nottingham</td>\n",
       "      <td>0.0</td>\n",
       "      <td>36.0</td>\n",
       "      <td>10.0</td>\n",
       "      <td>20.0</td>\n",
       "      <td>19.0</td>\n",
       "      <td>-10</td>\n",
       "    </tr>\n",
       "    <tr>\n",
       "      <th>2</th>\n",
       "      <td>36.0</td>\n",
       "      <td>116.0</td>\n",
       "      <td>19.00</td>\n",
       "      <td>93.25</td>\n",
       "      <td>36.0</td>\n",
       "      <td>Sri Lanka</td>\n",
       "      <td>Nagpur</td>\n",
       "      <td>36.0</td>\n",
       "      <td>10.0</td>\n",
       "      <td>20.0</td>\n",
       "      <td>19.0</td>\n",
       "      <td>31.0</td>\n",
       "      <td>-10</td>\n",
       "    </tr>\n",
       "    <tr>\n",
       "      <th>3</th>\n",
       "      <td>53.0</td>\n",
       "      <td>152.0</td>\n",
       "      <td>22.77</td>\n",
       "      <td>100.49</td>\n",
       "      <td>53.0</td>\n",
       "      <td>Sri Lanka</td>\n",
       "      <td>Pune</td>\n",
       "      <td>10.0</td>\n",
       "      <td>20.0</td>\n",
       "      <td>19.0</td>\n",
       "      <td>31.0</td>\n",
       "      <td>36.0</td>\n",
       "      <td>-10</td>\n",
       "    </tr>\n",
       "    <tr>\n",
       "      <th>4</th>\n",
       "      <td>30.0</td>\n",
       "      <td>205.0</td>\n",
       "      <td>23.50</td>\n",
       "      <td>100.85</td>\n",
       "      <td>53.0</td>\n",
       "      <td>Sri Lanka</td>\n",
       "      <td>Margao</td>\n",
       "      <td>20.0</td>\n",
       "      <td>19.0</td>\n",
       "      <td>31.0</td>\n",
       "      <td>36.0</td>\n",
       "      <td>53.0</td>\n",
       "      <td>0</td>\n",
       "    </tr>\n",
       "  </tbody>\n",
       "</table>\n",
       "</div>"
      ],
      "text/plain": [
       "   Match Runs  Total Runs    Ave  Career SR    HS Opposition      Ground  \\\n",
       "0        19.0        66.0  14.16      73.91  36.0    England       Leeds   \n",
       "1        31.0        85.0  16.57      82.26  36.0    England  Nottingham   \n",
       "2        36.0       116.0  19.00      93.25  36.0  Sri Lanka      Nagpur   \n",
       "3        53.0       152.0  22.77     100.49  53.0  Sri Lanka        Pune   \n",
       "4        30.0       205.0  23.50     100.85  53.0  Sri Lanka      Margao   \n",
       "\n",
       "     m1    m2    m3    m4    m5  Records  \n",
       "0   0.0   0.0  36.0  10.0  20.0      -10  \n",
       "1   0.0  36.0  10.0  20.0  19.0      -10  \n",
       "2  36.0  10.0  20.0  19.0  31.0      -10  \n",
       "3  10.0  20.0  19.0  31.0  36.0      -10  \n",
       "4  20.0  19.0  31.0  36.0  53.0        0  "
      ]
     },
     "metadata": {},
     "execution_count": 5
    }
   ],
   "metadata": {}
  },
  {
   "cell_type": "code",
   "execution_count": 6,
   "source": [
    "from sklearn.preprocessing import StandardScaler, LabelEncoder, MinMaxScaler\n",
    "df.Opposition.unique()"
   ],
   "outputs": [
    {
     "output_type": "execute_result",
     "data": {
      "text/plain": [
       "array(['England', 'Sri Lanka', 'Pakistan', 'West Indies', 'South Africa',\n",
       "       'Australia', 'Zimbabwe', 'New Zealand', 'U.A.E.', 'Bangladesh',\n",
       "       'Kenya', 'Netherlands', 'Namibia', 'Bermuda', 'Ireland', 'India',\n",
       "       'Canada', 'ICC World XI', 'Africa XI', 'Afghanistan', 'Scotland',\n",
       "       'U.S.A.', 'Asia XI', 'Hong Kong', 'P.N.G.'], dtype=object)"
      ]
     },
     "metadata": {},
     "execution_count": 6
    }
   ],
   "metadata": {}
  },
  {
   "cell_type": "code",
   "execution_count": 7,
   "source": [
    "df.Ground.unique()"
   ],
   "outputs": [
    {
     "output_type": "execute_result",
     "data": {
      "text/plain": [
       "array(['Leeds', 'Nottingham', 'Nagpur', 'Pune', 'Margao', 'Cuttack',\n",
       "       'Kolkata', 'Sharjah', 'Gwalior', 'New Delhi', 'Perth', 'Hobart',\n",
       "       'Adelaide', 'Brisbane', 'Sydney', 'Melbourne', 'Hamilton',\n",
       "       'Wellington', 'Dunedin', 'Harare', 'Cape Town', 'Port Elizabeth',\n",
       "       'Centurion', 'Johannesburg', 'Bloemfontein', 'Durban',\n",
       "       'East London', 'Jaipur', 'Chandigarh', 'Bengaluru', 'Jamshedpur',\n",
       "       'Faridabad', 'Guwahati', 'Colombo (RPS)', 'Moratuwa', 'Kanpur',\n",
       "       'Ahmedabad', 'Indore', 'Mohali', 'Rajkot', 'Hyderabad (Deccan)',\n",
       "       'Jalandhar', 'Napier', 'Auckland', 'Christchurch', 'Colombo (SSC)',\n",
       "       'Mumbai', 'Chennai', 'Vadodara', 'Delhi', 'Visakhapatnam',\n",
       "       'Amritsar', 'Mumbai (BS)', 'Singapore', 'The Oval', 'Manchester',\n",
       "       'Toronto', 'Paarl', 'Benoni', 'Bulawayo', 'Port of Spain',\n",
       "       'Kingstown', 'Bridgetown', 'Hyderabad (Sind)', 'Karachi', 'Lahore',\n",
       "       'Dhaka', 'Kochi', 'Taupo', 'Hove', 'Bristol', 'Taunton',\n",
       "       'Birmingham', 'Galle', 'Nairobi (Gym)', 'Jodhpur', \"Lord's\",\n",
       "       'Chester-le-Street', 'Pietermaritzburg', 'Rawalpindi', 'Peshawar',\n",
       "       'Dambulla', 'Chattogram', 'Multan', 'Kuala Lumpur', 'Belfast',\n",
       "       'Southampton', 'Canberra', 'Tangier', 'Kimberley',\n",
       "       'Melbourne (Docklands)', 'Queenstown', 'Bogra', 'Amstelveen',\n",
       "       'Providence', 'North Sound', \"St George's\", 'Kingston',\n",
       "       'Colombo (PSS)', 'Gros Islet', 'Hambantota', 'Pallekele',\n",
       "       'Dubai (DSC)', 'Abu Dhabi', 'Cardiff', 'Fatullah', 'Nelson',\n",
       "       'Georgetown', 'Worcester', 'Potchefstroom', 'Cairns', 'Darwin',\n",
       "       'Canterbury', 'Basseterre', 'Dublin', 'Sargodha', 'New Plymouth',\n",
       "       'Ballarat', 'Kandy', 'Patna', 'Gujranwala', 'Faisalabad',\n",
       "       'Nairobi (Club)', 'Northampton', 'Edinburgh', 'Ranchi',\n",
       "       'Dharamsala', 'Thiruvananthapuram', 'Mount Maunganui', 'Sialkot',\n",
       "       'Sheikhupura', 'Derby', \"St John's\", 'Chelmsford', 'Roseau',\n",
       "       'Leicester', 'Vijayawada', 'Glasgow', 'Nairobi', 'King City (NW)',\n",
       "       'Khulna', 'Whangarei', 'Berri', 'Nairobi (Aga)', 'Quetta',\n",
       "       'Aberdeen', 'Dublin (Malahide)', 'Sylhet', 'Srinagar', 'Deventer',\n",
       "       'Bready', 'Albion', 'Castries', 'Mombasa'], dtype=object)"
      ]
     },
     "metadata": {},
     "execution_count": 7
    }
   ],
   "metadata": {}
  },
  {
   "cell_type": "code",
   "execution_count": null,
   "source": [],
   "outputs": [],
   "metadata": {}
  },
  {
   "cell_type": "markdown",
   "source": [
    "lets scale the data for match runs, total runs, average, HS, m to m5 and records. We can leave average, SR as they are almost scaled and Opoosition, Ground which are categorical"
   ],
   "metadata": {}
  },
  {
   "cell_type": "code",
   "execution_count": 8,
   "source": [
    "df.to_csv('final_dataset.csv', index=False)"
   ],
   "outputs": [],
   "metadata": {}
  },
  {
   "cell_type": "code",
   "execution_count": null,
   "source": [],
   "outputs": [],
   "metadata": {}
  }
 ],
 "metadata": {
  "orig_nbformat": 4,
  "language_info": {
   "name": "python",
   "version": "3.9.6",
   "mimetype": "text/x-python",
   "codemirror_mode": {
    "name": "ipython",
    "version": 3
   },
   "pygments_lexer": "ipython3",
   "nbconvert_exporter": "python",
   "file_extension": ".py"
  },
  "kernelspec": {
   "name": "python3",
   "display_name": "Python 3.9.6 64-bit ('cricket': conda)"
  },
  "interpreter": {
   "hash": "8a8bf8bca3cfa753f335cce4ec6c465a705578560e87c3adfc94944d5ded4b06"
  }
 },
 "nbformat": 4,
 "nbformat_minor": 2
}