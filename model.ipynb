{
 "cells": [
  {
   "cell_type": "markdown",
   "source": [
    "### Model and Evaluation\n",
    "We will try to start with a simple model and then move onto Ensemble models and other complex models. We will use Accuracy as our metric."
   ],
   "metadata": {}
  },
  {
   "cell_type": "code",
   "execution_count": 18,
   "source": [
    "import pandas as pd\n",
    "import numpy as np\n",
    "import matplotlib.pyplot as plt\n",
    "plt.style.use('ggplot')\n",
    "%matplotlib inline"
   ],
   "outputs": [],
   "metadata": {}
  },
  {
   "cell_type": "code",
   "execution_count": 19,
   "source": [
    "from sklearn.model_selection import train_test_split\n",
    "from sklearn.pipeline import Pipeline\n",
    "from sklearn.metrics import accuracy_score\n",
    "from sklearn.preprocessing import MinMaxScaler"
   ],
   "outputs": [],
   "metadata": {}
  },
  {
   "cell_type": "code",
   "execution_count": 20,
   "source": [
    "df = pd.read_csv('final_dataset.csv')\n",
    "df = df.reset_index()\n",
    "df.replace([np.inf, -np.inf], np.nan).dropna(axis=1)\n",
    "df = df.dropna()\n",
    "df.head()"
   ],
   "outputs": [
    {
     "output_type": "execute_result",
     "data": {
      "text/html": [
       "<div>\n",
       "<style scoped>\n",
       "    .dataframe tbody tr th:only-of-type {\n",
       "        vertical-align: middle;\n",
       "    }\n",
       "\n",
       "    .dataframe tbody tr th {\n",
       "        vertical-align: top;\n",
       "    }\n",
       "\n",
       "    .dataframe thead th {\n",
       "        text-align: right;\n",
       "    }\n",
       "</style>\n",
       "<table border=\"1\" class=\"dataframe\">\n",
       "  <thead>\n",
       "    <tr style=\"text-align: right;\">\n",
       "      <th></th>\n",
       "      <th>index</th>\n",
       "      <th>Match Runs</th>\n",
       "      <th>Total Runs</th>\n",
       "      <th>Ave</th>\n",
       "      <th>Career SR</th>\n",
       "      <th>HS</th>\n",
       "      <th>Opposition</th>\n",
       "      <th>Ground</th>\n",
       "      <th>m1</th>\n",
       "      <th>m2</th>\n",
       "      <th>m3</th>\n",
       "      <th>m4</th>\n",
       "      <th>m5</th>\n",
       "      <th>Records</th>\n",
       "    </tr>\n",
       "  </thead>\n",
       "  <tbody>\n",
       "    <tr>\n",
       "      <th>0</th>\n",
       "      <td>0</td>\n",
       "      <td>19.0</td>\n",
       "      <td>28.0</td>\n",
       "      <td>14.16</td>\n",
       "      <td>73.91</td>\n",
       "      <td>136</td>\n",
       "      <td>7</td>\n",
       "      <td>88</td>\n",
       "      <td>0.0</td>\n",
       "      <td>0.0</td>\n",
       "      <td>36.0</td>\n",
       "      <td>10.0</td>\n",
       "      <td>20.0</td>\n",
       "      <td>-10</td>\n",
       "    </tr>\n",
       "    <tr>\n",
       "      <th>1</th>\n",
       "      <td>1</td>\n",
       "      <td>31.0</td>\n",
       "      <td>23.0</td>\n",
       "      <td>16.57</td>\n",
       "      <td>82.26</td>\n",
       "      <td>136</td>\n",
       "      <td>7</td>\n",
       "      <td>113</td>\n",
       "      <td>0.0</td>\n",
       "      <td>36.0</td>\n",
       "      <td>10.0</td>\n",
       "      <td>20.0</td>\n",
       "      <td>19.0</td>\n",
       "      <td>-10</td>\n",
       "    </tr>\n",
       "    <tr>\n",
       "      <th>2</th>\n",
       "      <td>2</td>\n",
       "      <td>36.0</td>\n",
       "      <td>44.0</td>\n",
       "      <td>19.00</td>\n",
       "      <td>93.25</td>\n",
       "      <td>136</td>\n",
       "      <td>20</td>\n",
       "      <td>102</td>\n",
       "      <td>36.0</td>\n",
       "      <td>10.0</td>\n",
       "      <td>20.0</td>\n",
       "      <td>19.0</td>\n",
       "      <td>31.0</td>\n",
       "      <td>-10</td>\n",
       "    </tr>\n",
       "    <tr>\n",
       "      <th>3</th>\n",
       "      <td>3</td>\n",
       "      <td>53.0</td>\n",
       "      <td>46.0</td>\n",
       "      <td>22.77</td>\n",
       "      <td>100.49</td>\n",
       "      <td>157</td>\n",
       "      <td>20</td>\n",
       "      <td>124</td>\n",
       "      <td>10.0</td>\n",
       "      <td>20.0</td>\n",
       "      <td>19.0</td>\n",
       "      <td>31.0</td>\n",
       "      <td>36.0</td>\n",
       "      <td>-10</td>\n",
       "    </tr>\n",
       "    <tr>\n",
       "      <th>4</th>\n",
       "      <td>4</td>\n",
       "      <td>30.0</td>\n",
       "      <td>145.0</td>\n",
       "      <td>23.50</td>\n",
       "      <td>100.85</td>\n",
       "      <td>157</td>\n",
       "      <td>20</td>\n",
       "      <td>92</td>\n",
       "      <td>20.0</td>\n",
       "      <td>19.0</td>\n",
       "      <td>31.0</td>\n",
       "      <td>36.0</td>\n",
       "      <td>53.0</td>\n",
       "      <td>0</td>\n",
       "    </tr>\n",
       "  </tbody>\n",
       "</table>\n",
       "</div>"
      ],
      "text/plain": [
       "   index  Match Runs  Total Runs    Ave  Career SR   HS  Opposition  Ground  \\\n",
       "0      0        19.0        28.0  14.16      73.91  136           7      88   \n",
       "1      1        31.0        23.0  16.57      82.26  136           7     113   \n",
       "2      2        36.0        44.0  19.00      93.25  136          20     102   \n",
       "3      3        53.0        46.0  22.77     100.49  157          20     124   \n",
       "4      4        30.0       145.0  23.50     100.85  157          20      92   \n",
       "\n",
       "     m1    m2    m3    m4    m5  Records  \n",
       "0   0.0   0.0  36.0  10.0  20.0      -10  \n",
       "1   0.0  36.0  10.0  20.0  19.0      -10  \n",
       "2  36.0  10.0  20.0  19.0  31.0      -10  \n",
       "3  10.0  20.0  19.0  31.0  36.0      -10  \n",
       "4  20.0  19.0  31.0  36.0  53.0        0  "
      ]
     },
     "metadata": {},
     "execution_count": 20
    }
   ],
   "metadata": {}
  },
  {
   "cell_type": "markdown",
   "source": [
    "### Two ways ahead\n",
    "We can just go ahead with regression for the final output which may or may not be the best or we can try classification with dense classes from 0-100 and sparse there on. We can start by MinMax scaling everything expect our y and categorical variables. "
   ],
   "metadata": {}
  },
  {
   "cell_type": "code",
   "execution_count": 21,
   "source": [
    "scaler = MinMaxScaler()\n",
    "df[['Total Runs', 'HS', 'm1', 'm2', 'm3', 'm4', 'm5', 'Records']] = scaler.fit_transform(df[['Total Runs', 'HS', 'm1', 'm2', 'm3', 'm4', 'm5', 'Records']])\n",
    "df.head()"
   ],
   "outputs": [
    {
     "output_type": "execute_result",
     "data": {
      "text/html": [
       "<div>\n",
       "<style scoped>\n",
       "    .dataframe tbody tr th:only-of-type {\n",
       "        vertical-align: middle;\n",
       "    }\n",
       "\n",
       "    .dataframe tbody tr th {\n",
       "        vertical-align: top;\n",
       "    }\n",
       "\n",
       "    .dataframe thead th {\n",
       "        text-align: right;\n",
       "    }\n",
       "</style>\n",
       "<table border=\"1\" class=\"dataframe\">\n",
       "  <thead>\n",
       "    <tr style=\"text-align: right;\">\n",
       "      <th></th>\n",
       "      <th>index</th>\n",
       "      <th>Match Runs</th>\n",
       "      <th>Total Runs</th>\n",
       "      <th>Ave</th>\n",
       "      <th>Career SR</th>\n",
       "      <th>HS</th>\n",
       "      <th>Opposition</th>\n",
       "      <th>Ground</th>\n",
       "      <th>m1</th>\n",
       "      <th>m2</th>\n",
       "      <th>m3</th>\n",
       "      <th>m4</th>\n",
       "      <th>m5</th>\n",
       "      <th>Records</th>\n",
       "    </tr>\n",
       "  </thead>\n",
       "  <tbody>\n",
       "    <tr>\n",
       "      <th>0</th>\n",
       "      <td>0</td>\n",
       "      <td>19.0</td>\n",
       "      <td>0.011863</td>\n",
       "      <td>14.16</td>\n",
       "      <td>73.91</td>\n",
       "      <td>0.609865</td>\n",
       "      <td>7</td>\n",
       "      <td>88</td>\n",
       "      <td>0.000000</td>\n",
       "      <td>0.000000</td>\n",
       "      <td>0.136364</td>\n",
       "      <td>0.037879</td>\n",
       "      <td>0.075758</td>\n",
       "      <td>0.016827</td>\n",
       "    </tr>\n",
       "    <tr>\n",
       "      <th>1</th>\n",
       "      <td>1</td>\n",
       "      <td>31.0</td>\n",
       "      <td>0.011592</td>\n",
       "      <td>16.57</td>\n",
       "      <td>82.26</td>\n",
       "      <td>0.609865</td>\n",
       "      <td>7</td>\n",
       "      <td>113</td>\n",
       "      <td>0.000000</td>\n",
       "      <td>0.136364</td>\n",
       "      <td>0.037879</td>\n",
       "      <td>0.075758</td>\n",
       "      <td>0.071970</td>\n",
       "      <td>0.016827</td>\n",
       "    </tr>\n",
       "    <tr>\n",
       "      <th>2</th>\n",
       "      <td>2</td>\n",
       "      <td>36.0</td>\n",
       "      <td>0.012730</td>\n",
       "      <td>19.00</td>\n",
       "      <td>93.25</td>\n",
       "      <td>0.609865</td>\n",
       "      <td>20</td>\n",
       "      <td>102</td>\n",
       "      <td>0.136364</td>\n",
       "      <td>0.037879</td>\n",
       "      <td>0.075758</td>\n",
       "      <td>0.071970</td>\n",
       "      <td>0.117424</td>\n",
       "      <td>0.016827</td>\n",
       "    </tr>\n",
       "    <tr>\n",
       "      <th>3</th>\n",
       "      <td>3</td>\n",
       "      <td>53.0</td>\n",
       "      <td>0.012838</td>\n",
       "      <td>22.77</td>\n",
       "      <td>100.49</td>\n",
       "      <td>0.704036</td>\n",
       "      <td>20</td>\n",
       "      <td>124</td>\n",
       "      <td>0.037879</td>\n",
       "      <td>0.075758</td>\n",
       "      <td>0.071970</td>\n",
       "      <td>0.117424</td>\n",
       "      <td>0.136364</td>\n",
       "      <td>0.016827</td>\n",
       "    </tr>\n",
       "    <tr>\n",
       "      <th>4</th>\n",
       "      <td>4</td>\n",
       "      <td>30.0</td>\n",
       "      <td>0.018201</td>\n",
       "      <td>23.50</td>\n",
       "      <td>100.85</td>\n",
       "      <td>0.704036</td>\n",
       "      <td>20</td>\n",
       "      <td>92</td>\n",
       "      <td>0.075758</td>\n",
       "      <td>0.071970</td>\n",
       "      <td>0.117424</td>\n",
       "      <td>0.136364</td>\n",
       "      <td>0.200758</td>\n",
       "      <td>0.021635</td>\n",
       "    </tr>\n",
       "  </tbody>\n",
       "</table>\n",
       "</div>"
      ],
      "text/plain": [
       "   index  Match Runs  Total Runs    Ave  Career SR        HS  Opposition  \\\n",
       "0      0        19.0    0.011863  14.16      73.91  0.609865           7   \n",
       "1      1        31.0    0.011592  16.57      82.26  0.609865           7   \n",
       "2      2        36.0    0.012730  19.00      93.25  0.609865          20   \n",
       "3      3        53.0    0.012838  22.77     100.49  0.704036          20   \n",
       "4      4        30.0    0.018201  23.50     100.85  0.704036          20   \n",
       "\n",
       "   Ground        m1        m2        m3        m4        m5   Records  \n",
       "0      88  0.000000  0.000000  0.136364  0.037879  0.075758  0.016827  \n",
       "1     113  0.000000  0.136364  0.037879  0.075758  0.071970  0.016827  \n",
       "2     102  0.136364  0.037879  0.075758  0.071970  0.117424  0.016827  \n",
       "3     124  0.037879  0.075758  0.071970  0.117424  0.136364  0.016827  \n",
       "4      92  0.075758  0.071970  0.117424  0.136364  0.200758  0.021635  "
      ]
     },
     "metadata": {},
     "execution_count": 21
    }
   ],
   "metadata": {}
  },
  {
   "cell_type": "markdown",
   "source": [
    "We will start with these classes 10 classes between 0-100, 5 classes for 100-200 and 1 for 200+. We can then try and change these. "
   ],
   "metadata": {}
  },
  {
   "cell_type": "code",
   "execution_count": 22,
   "source": [
    "df.loc[(df['Match Runs'] >= 200), 'class'] = 16\n",
    "df.loc[(df['Match Runs'] < 200) & (df['Match Runs'] >= 180), 'class'] = 15\n",
    "df.loc[(df['Match Runs'] < 180) & (df['Match Runs'] >= 160), 'class'] = 14\n",
    "df.loc[(df['Match Runs'] < 160) & (df['Match Runs'] >= 140), 'class'] = 13\n",
    "df.loc[(df['Match Runs'] < 140) & (df['Match Runs'] >= 120), 'class'] = 12\n",
    "df.loc[(df['Match Runs'] < 120) & (df['Match Runs'] >= 100), 'class'] = 11\n",
    "df.loc[(df['Match Runs'] < 100) & (df['Match Runs'] >= 90), 'class'] = 10\n",
    "df.loc[(df['Match Runs'] < 90) & (df['Match Runs'] >= 80), 'class'] = 9\n",
    "df.loc[(df['Match Runs'] < 80) & (df['Match Runs'] >= 70), 'class'] = 8\n",
    "df.loc[(df['Match Runs'] < 70) & (df['Match Runs'] >= 60), 'class'] = 7\n",
    "df.loc[(df['Match Runs'] < 60) & (df['Match Runs'] >= 50), 'class'] = 6\n",
    "df.loc[(df['Match Runs'] < 50) & (df['Match Runs'] >= 40), 'class'] = 5\n",
    "df.loc[(df['Match Runs'] < 40) & (df['Match Runs'] >= 30), 'class'] = 4\n",
    "df.loc[(df['Match Runs'] < 30) & (df['Match Runs'] >= 20), 'class'] = 3\n",
    "df.loc[(df['Match Runs'] < 20) & (df['Match Runs'] >= 10), 'class'] = 2\n",
    "df.loc[(df['Match Runs'] < 10), 'class'] = 1"
   ],
   "outputs": [],
   "metadata": {}
  },
  {
   "cell_type": "code",
   "execution_count": 23,
   "source": [
    "df['class'].astype(int)"
   ],
   "outputs": [
    {
     "output_type": "execute_result",
     "data": {
      "text/plain": [
       "0        2\n",
       "1        4\n",
       "2        4\n",
       "3        6\n",
       "4        4\n",
       "        ..\n",
       "16856    7\n",
       "16857    3\n",
       "16858    1\n",
       "16859    2\n",
       "16860    1\n",
       "Name: class, Length: 16822, dtype: int64"
      ]
     },
     "metadata": {},
     "execution_count": 23
    }
   ],
   "metadata": {}
  },
  {
   "cell_type": "code",
   "execution_count": 24,
   "source": [
    "df.drop(['index'], axis=1, inplace=True)\n",
    "df.to_csv('multi_dataset.csv', index=False)"
   ],
   "outputs": [],
   "metadata": {}
  },
  {
   "cell_type": "code",
   "execution_count": 25,
   "source": [
    "df = df.sample(frac=0.7)\n",
    "y = df['class']\n",
    "df.drop(['Match Runs', 'class'], inplace=True, axis=1)\n",
    "X = df\n",
    "X_train, X_test, y_train, y_test = train_test_split(X, y, test_size = 0.1, shuffle=True)"
   ],
   "outputs": [],
   "metadata": {}
  },
  {
   "cell_type": "code",
   "execution_count": 78,
   "source": [
    "from sklearn.tree import DecisionTreeClassifier"
   ],
   "outputs": [],
   "metadata": {}
  },
  {
   "cell_type": "code",
   "execution_count": 79,
   "source": [
    "test_scores = []\n",
    "train_scores = []\n",
    "for i in range(1, 30):\n",
    "    model = DecisionTreeClassifier(max_depth=i)\n",
    "    model.fit(X_train, y_train)\n",
    "    test_scores.append(model.score(X_test, y_test))\n",
    "    train_scores.append(model.score(X_train, y_train))\n",
    "plt.plot(range(1, 30), train_scores, label='Training Accuracy')\n",
    "plt.plot(range(1, 30), test_scores, label='Testing Accuracy')\n",
    "plt.show()"
   ],
   "outputs": [
    {
     "output_type": "display_data",
     "data": {
      "image/png": "[encoded data removed]",
      "text/plain": [
       "<Figure size 432x288 with 1 Axes>"
      ]
     },
     "metadata": {
      "needs_background": "light"
     }
    }
   ],
   "metadata": {}
  },
  {
   "cell_type": "code",
   "execution_count": 80,
   "source": [
    "from sklearn.ensemble import RandomForestClassifier"
   ],
   "outputs": [],
   "metadata": {}
  },
  {
   "cell_type": "code",
   "execution_count": null,
   "source": [
    "test_scores = []\n",
    "train_scores = []\n",
    "for i in range(1, 30):\n",
    "    model = RandomForestClassifier(max_depth=i)\n",
    "    model.fit(X_train, y_train)\n",
    "    test_scores.append(model.score(X_test, y_test))\n",
    "    train_scores.append(model.score(X_train, y_train))\n",
    "plt.plot(range(1, 30), train_scores, label='Training Accuracy')\n",
    "plt.plot(range(1, 30), test_scores, label='Testing Accuracy')\n",
    "plt.show()"
   ],
   "outputs": [],
   "metadata": {}
  },
  {
   "cell_type": "code",
   "execution_count": 84,
   "source": [
    "param_grid = { \n",
    "    'n_estimators': np.linspace(1, 1000, 20, dtype=int),\n",
    "    'max_features': ['auto', 'sqrt', 'log2'],\n",
    "    'max_depth' : np.linspace(1, 50, 10, dtype=int),\n",
    "    'criterion' :['gini', 'entropy']\n",
    "}"
   ],
   "outputs": [],
   "metadata": {}
  },
  {
   "cell_type": "code",
   "execution_count": 85,
   "source": [
    "from sklearn.model_selection import GridSearchCV"
   ],
   "outputs": [],
   "metadata": {}
  },
  {
   "cell_type": "code",
   "execution_count": 88,
   "source": [
    "model = RandomForestClassifier(verbose=2)\n",
    "grid = GridSearchCV(model, param_grid, cv=5, n_jobs=4, verbose=2)\n",
    "grid.fit(X_train, y_train)"
   ],
   "outputs": [
    {
     "output_type": "stream",
     "name": "stdout",
     "text": [
      "Fitting 5 folds for each of 1200 candidates, totalling 6000 fits\n"
     ]
    }
   ],
   "metadata": {}
  },
  {
   "cell_type": "code",
   "execution_count": 2,
   "source": [
    "import joblib \n",
    "model = joblib.load('best.pkl')"
   ],
   "outputs": [
    {
     "output_type": "stream",
     "name": "stdout",
     "text": [
      "Requirement already satisfied: joblib in /home/wally1002/anaconda3/envs/cricket/lib/python3.9/site-packages (1.0.1)\n"
     ]
    }
   ],
   "metadata": {}
  },
  {
   "cell_type": "code",
   "execution_count": 3,
   "source": [
    "from sklearn.ensemble import RandomForestClassifier"
   ],
   "outputs": [],
   "metadata": {}
  },
  {
   "cell_type": "code",
   "execution_count": 4,
   "source": [
    "model = RandomForestClassifier(**model)"
   ],
   "outputs": [],
   "metadata": {}
  },
  {
   "cell_type": "code",
   "execution_count": 14,
   "source": [
    "model.fit(X_train, y_train)"
   ],
   "outputs": [
    {
     "output_type": "execute_result",
     "data": {
      "text/plain": [
       "RandomForestClassifier(max_depth=11, n_estimators=501)"
      ]
     },
     "metadata": {},
     "execution_count": 14
    }
   ],
   "metadata": {}
  },
  {
   "cell_type": "code",
   "execution_count": 15,
   "source": [
    "model.score(X_test, y_test), model.score(X_train, y_train)"
   ],
   "outputs": [
    {
     "output_type": "execute_result",
     "data": {
      "text/plain": [
       "(0.27748068924539515, 0.3414360261576062)"
      ]
     },
     "metadata": {},
     "execution_count": 15
    }
   ],
   "metadata": {}
  },
  {
   "cell_type": "code",
   "execution_count": 18,
   "source": [
    "model.get_params"
   ],
   "outputs": [
    {
     "output_type": "execute_result",
     "data": {
      "text/plain": [
       "<bound method BaseEstimator.get_params of RandomForestClassifier(max_depth=11, n_estimators=501)>"
      ]
     },
     "metadata": {},
     "execution_count": 18
    }
   ],
   "metadata": {}
  },
  {
   "cell_type": "code",
   "execution_count": 27,
   "source": [
    "model2 = RandomForestClassifier(max_depth=10, n_estimators=1000, max_features='auto', criterion='entropy')\n",
    "model2.fit(X_train, y_train)"
   ],
   "outputs": [
    {
     "output_type": "execute_result",
     "data": {
      "text/plain": [
       "RandomForestClassifier(criterion='entropy', max_depth=10, n_estimators=1000)"
      ]
     },
     "metadata": {},
     "execution_count": 27
    }
   ],
   "metadata": {}
  },
  {
   "cell_type": "code",
   "execution_count": 28,
   "source": [
    "model2.score(X_test, y_test), model2.score(X_train, y_train)"
   ],
   "outputs": [
    {
     "output_type": "execute_result",
     "data": {
      "text/plain": [
       "(0.2756981580510992, 0.3518065922451945)"
      ]
     },
     "metadata": {},
     "execution_count": 28
    }
   ],
   "metadata": {}
  },
  {
   "cell_type": "code",
   "execution_count": 26,
   "source": [
    "from sklearn.ensemble import GradientBoostingClassifier"
   ],
   "outputs": [],
   "metadata": {}
  },
  {
   "cell_type": "code",
   "execution_count": 30,
   "source": [
    "model3 = GradientBoostingClassifier(n_estimators=1000, max_depth=10, max_features='auto', learning_rate=0.1)\n",
    "model3.fit(X_train, y_train)\n",
    "model3.score(X_test, y_test), model3.score(X_train, y_train)"
   ],
   "outputs": [
    {
     "output_type": "execute_result",
     "data": {
      "text/plain": [
       "(0.24955436720142601, 1.0)"
      ]
     },
     "metadata": {},
     "execution_count": 30
    }
   ],
   "metadata": {}
  },
  {
   "cell_type": "code",
   "execution_count": 31,
   "source": [
    "model4 = GradientBoostingClassifier(n_estimators=1000, max_depth=10, max_features='auto', learning_rate=0.01, verbose=2, n_iter_no_change=20, validation_fraction=0.1)\n",
    "model4.fit(X_train, y_train)\n",
    "model4.score(X_test, y_test), model4.score(X_train, y_train)"
   ],
   "outputs": [
    {
     "output_type": "stream",
     "name": "stdout",
     "text": [
      "      Iter       Train Loss   Remaining Time \n",
      "         1           2.1531           16.48m\n",
      "         2           2.1352           17.10m\n",
      "         3           2.1191           17.40m\n",
      "         4           2.1054           17.46m\n",
      "         5           2.0919           17.86m\n",
      "         6           2.0796           18.32m\n",
      "         7           2.0674           18.62m\n",
      "         8           2.0554           18.87m\n",
      "         9           2.0447           19.10m\n",
      "        10           2.0336           19.19m\n",
      "        11           2.0230           19.30m\n",
      "        12           2.0122           19.36m\n",
      "        13           2.0015           19.44m\n",
      "        14           1.9914           19.52m\n",
      "        15           1.9816           19.61m\n",
      "        16           1.9715           19.75m\n",
      "        17           1.9615           19.82m\n",
      "        18           1.9517           19.91m\n",
      "        19           1.9419           19.97m\n",
      "        20           1.9327           20.02m\n",
      "        21           1.9232           20.06m\n",
      "        22           1.9141           20.10m\n",
      "        23           1.9044           20.14m\n",
      "        24           1.8957           20.16m\n",
      "        25           1.8857           20.18m\n",
      "        26           1.8757           20.21m\n",
      "        27           1.8668           20.23m\n",
      "        28           1.8561           20.25m\n",
      "        29           1.8484           20.26m\n",
      "        30           1.8394           20.14m\n",
      "        31           1.8297           20.03m\n",
      "        32           1.8213           19.93m\n",
      "        33           1.8117           19.85m\n",
      "        34           1.8031           19.77m\n",
      "        35           1.7946           19.70m\n",
      "        36           1.7858           19.62m\n",
      "        37           1.7780           19.55m\n",
      "        38           1.7692           19.52m\n",
      "        39           1.7615           19.56m\n",
      "        40           1.7533           19.59m\n",
      "        41           1.7459           19.61m\n",
      "        42           1.7377           19.63m\n",
      "        43           1.7293           19.65m\n",
      "        44           1.7216           19.66m\n",
      "        45           1.7143           19.67m\n",
      "        46           1.7063           19.68m\n",
      "        47           1.6983           19.68m\n",
      "        48           1.6906           19.67m\n",
      "        49           1.6828           19.67m\n",
      "        50           1.6753           19.66m\n",
      "        51           1.6673           19.66m\n",
      "        52           1.6603           19.65m\n",
      "        53           1.6529           19.65m\n",
      "        54           1.6453           19.64m\n",
      "        55           1.6379           19.63m\n",
      "        56           1.6308           19.63m\n",
      "        57           1.6230           19.63m\n",
      "        58           1.6160           19.59m\n",
      "        59           1.6083           19.53m\n",
      "        60           1.6018           19.46m\n",
      "        61           1.5951           19.40m\n",
      "        62           1.5871           19.34m\n",
      "        63           1.5795           19.28m\n",
      "        64           1.5712           19.23m\n",
      "        65           1.5642           19.22m\n",
      "        66           1.5577           19.21m\n",
      "        67           1.5497           19.20m\n",
      "        68           1.5436           19.19m\n",
      "        69           1.5362           19.18m\n",
      "        70           1.5295           19.16m\n"
     ]
    },
    {
     "output_type": "execute_result",
     "data": {
      "text/plain": [
       "(0.2640067911714771, 0.5041993016891573)"
      ]
     },
     "metadata": {},
     "execution_count": 31
    }
   ],
   "metadata": {}
  }
 ],
 "metadata": {
  "orig_nbformat": 4,
  "language_info": {
   "name": "python",
   "version": "3.9.6",
   "mimetype": "text/x-python",
   "codemirror_mode": {
    "name": "ipython",
    "version": 3
   },
   "pygments_lexer": "ipython3",
   "nbconvert_exporter": "python",
   "file_extension": ".py"
  },
  "kernelspec": {
   "name": "python3",
   "display_name": "Python 3.9.6 64-bit ('cricket': conda)"
  },
  "interpreter": {
   "hash": "8a8bf8bca3cfa753f335cce4ec6c465a705578560e87c3adfc94944d5ded4b06"
  }
 },
 "nbformat": 4,
 "nbformat_minor": 2
}